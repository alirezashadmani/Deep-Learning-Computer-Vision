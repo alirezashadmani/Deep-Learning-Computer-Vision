{
 "cells": [
  {
   "cell_type": "code",
   "execution_count": null,
   "metadata": {
    "id": "xbmLO4NDZcWL"
   },
   "outputs": [],
   "source": [
    "import pandas as pd\n",
    "import numpy as np\n",
    "import matplotlib.pyplot as plt\n",
    "import tensorflow as tf\n",
    "from tensorflow.keras import models, layers\n",
    "from tensorflow.keras.preprocessing.image import ImageDataGenerator\n",
    "from keras.callbacks import ModelCheckpoint, EarlyStopping, ReduceLROnPlateau\n",
    "from tensorflow.keras.applications import ResNet50, DenseNet121, EfficientNetB3\n",
    "from keras.optimizers import Adam\n",
    "from keras.losses import CategoricalCrossentropy\n",
    "import os, cv2, json\n",
    "import glob\n",
    "\n",
    "import warnings\n",
    "warnings.simplefilter(\"ignore\")"
   ]
  },
  {
   "cell_type": "code",
   "execution_count": null,
   "metadata": {
    "colab": {
     "base_uri": "https://localhost:8080/"
    },
    "id": "ynyfyO_ggA8n",
    "outputId": "f9cc8e26-7dc6-49c3-daff-357c066ce2c6"
   },
   "outputs": [],
   "source": [
    "WORK_DIR = 'E:/Kaggle.Challenges/cassava-leaf-disease-classification/'\n",
    "os.listdir(WORK_DIR)"
   ]
  },
  {
   "cell_type": "code",
   "execution_count": null,
   "metadata": {
    "colab": {
     "base_uri": "https://localhost:8080/"
    },
    "id": "viFDz8ExijJ6",
    "outputId": "9acab622-7b9d-4c9d-af94-576c4037d86b"
   },
   "outputs": [],
   "source": [
    "with open('E:/Kaggle.Challenges/cassava-leaf-disease-classification/label_num_to_disease_map.json', 'r') as file:\n",
    "    labels = json.load(file)\n",
    "    \n",
    "labels"
   ]
  },
  {
   "cell_type": "code",
   "execution_count": null,
   "metadata": {
    "id": "t5_ISGoWkSWd"
   },
   "outputs": [],
   "source": [
    "data=pd.read_csv(WORK_DIR + '/train.csv')"
   ]
  },
  {
   "cell_type": "code",
   "execution_count": null,
   "metadata": {
    "colab": {
     "base_uri": "https://localhost:8080/",
     "height": 206
    },
    "id": "LCZc3zbGka2g",
    "outputId": "1f68915e-e0dd-475b-c442-248f1f20cfdf"
   },
   "outputs": [],
   "source": [
    "data.head()"
   ]
  },
  {
   "cell_type": "code",
   "execution_count": null,
   "metadata": {
    "colab": {
     "base_uri": "https://localhost:8080/"
    },
    "id": "_auuAxYCkwK7",
    "outputId": "2dfb6e88-f712-41d2-ae4c-90c8450a0ef2"
   },
   "outputs": [],
   "source": [
    "data.dtypes"
   ]
  },
  {
   "cell_type": "code",
   "execution_count": null,
   "metadata": {
    "id": "v7QDi0BVkzcS"
   },
   "outputs": [],
   "source": [
    "#change for the ImageDataGen and flow_from_dataframe\n",
    "data.label=data.label.astype('str')"
   ]
  },
  {
   "cell_type": "code",
   "execution_count": null,
   "metadata": {
    "colab": {
     "base_uri": "https://localhost:8080/"
    },
    "id": "sf3aMX7gk1go",
    "outputId": "cf4bab79-92a6-40c1-99d1-6216c91784c4"
   },
   "outputs": [],
   "source": [
    "data.dtypes"
   ]
  },
  {
   "cell_type": "code",
   "execution_count": null,
   "metadata": {
    "colab": {
     "base_uri": "https://localhost:8080/"
    },
    "id": "0s2tZjBak3Dd",
    "outputId": "9bce5d53-71f1-43c4-afdd-a80b4c59e32a"
   },
   "outputs": [],
   "source": [
    "data.shape[0]"
   ]
  },
  {
   "cell_type": "code",
   "execution_count": null,
   "metadata": {
    "colab": {
     "base_uri": "https://localhost:8080/"
    },
    "id": "_XLIll9gk92x",
    "outputId": "9d240ec8-6a1b-4060-f358-cae7821174d3"
   },
   "outputs": [],
   "source": [
    "data.label.value_counts()"
   ]
  },
  {
   "cell_type": "markdown",
   "metadata": {
    "id": "qvCvqDV2lhCA"
   },
   "source": [
    "# Image Visualization"
   ]
  },
  {
   "cell_type": "code",
   "execution_count": null,
   "metadata": {
    "id": "dAia-9zylY4V"
   },
   "outputs": [],
   "source": [
    "IMG_SIZE = 333"
   ]
  },
  {
   "cell_type": "code",
   "execution_count": null,
   "metadata": {
    "colab": {
     "base_uri": "https://localhost:8080/",
     "height": 595
    },
    "id": "9ITBpSq4lp3U",
    "outputId": "3931801e-95c9-4c41-c65d-6899e7e06a40"
   },
   "outputs": [],
   "source": [
    "plt.figure(figsize=(15,12))\n",
    "data_sample=data.sample(9).reset_index(drop=True)\n",
    "\n",
    "for i in range(8):\n",
    "  plt.subplot(2,4,i+1)\n",
    "\n",
    "  img=cv2.imread(WORK_DIR + 'train_images/' + data_sample.image_id[i])\n",
    "  img=cv2.resize(img, (IMG_SIZE, IMG_SIZE))\n",
    "  img=cv2.cvtColor(img, cv2.COLOR_BGR2RGB)\n",
    "\n",
    "  plt.axis(\"off\")\n",
    "  plt.imshow(img)\n",
    "  plt.title(labels.get(data_sample.label[i]))\n",
    "\n",
    "plt.tight_layout()\n",
    "plt.show()"
   ]
  },
  {
   "cell_type": "code",
   "execution_count": null,
   "metadata": {},
   "outputs": [],
   "source": [
    "data_sample"
   ]
  },
  {
   "cell_type": "markdown",
   "metadata": {
    "id": "STuauYH0nI7M"
   },
   "source": [
    "# Cassava Bacterial Blight (CBB)"
   ]
  },
  {
   "cell_type": "code",
   "execution_count": null,
   "metadata": {
    "colab": {
     "base_uri": "https://localhost:8080/",
     "height": 36
    },
    "id": "6b4J4g-8nIAy",
    "outputId": "2770df62-36aa-47a1-e0a9-e91678f6cf15"
   },
   "outputs": [],
   "source": [
    "labels.get('0')"
   ]
  },
  {
   "cell_type": "code",
   "execution_count": null,
   "metadata": {
    "colab": {
     "base_uri": "https://localhost:8080/",
     "height": 951
    },
    "id": "ulTjnp1ZnSeA",
    "outputId": "be0995f0-90db-473e-96d9-9c7d84af2048"
   },
   "outputs": [],
   "source": [
    "plt.figure(figsize=(15,12))\n",
    "data_sample=data[data.label=='0'].sample(4).reset_index(drop=True)\n",
    "\n",
    "for i in range(4):\n",
    "  plt.subplot(1,4,i+1)\n",
    "\n",
    "  img=cv2.imread(WORK_DIR+'train_images/'+data_sample.image_id[i])\n",
    "  img=cv2.resize(img, (IMG_SIZE, IMG_SIZE))\n",
    "  img=cv2.cvtColor(img, cv2.COLOR_BGR2RGB)\n",
    "\n",
    "  plt.axis('off')\n",
    "  plt.imshow(img)\n",
    "  plt.title(labels.get(data_sample.label[i]))\n",
    "\n",
    "plt.tight_layout()\n",
    "plt.show()"
   ]
  },
  {
   "cell_type": "markdown",
   "metadata": {
    "id": "xo257HreopmK"
   },
   "source": [
    "**Cassava Brown Streak Disease (CBSD)**"
   ]
  },
  {
   "cell_type": "code",
   "execution_count": null,
   "metadata": {
    "colab": {
     "base_uri": "https://localhost:8080/",
     "height": 36
    },
    "id": "HEFh1pYDoU8p",
    "outputId": "a31eb40c-df7d-423c-ab38-a9aaac95f305"
   },
   "outputs": [],
   "source": [
    "labels.get('1')"
   ]
  },
  {
   "cell_type": "code",
   "execution_count": null,
   "metadata": {
    "colab": {
     "base_uri": "https://localhost:8080/",
     "height": 951
    },
    "id": "z50y_axIowy1",
    "outputId": "6e1820da-1f9c-4c28-b068-ed152c055cea"
   },
   "outputs": [],
   "source": [
    "plt.figure(figsize=(15,12))\n",
    "data_sample = data[data.label==\"1\"].sample(4).reset_index(drop=True)\n",
    "for i in range(4):\n",
    "    plt.subplot(1,4,i+1)\n",
    "    \n",
    "    img = cv2.imread(WORK_DIR + \"train_images/\" + data_sample.image_id[i])\n",
    "    img = cv2.resize(img, (IMG_SIZE, IMG_SIZE))\n",
    "    img = cv2.cvtColor(img, cv2.COLOR_BGR2RGB)\n",
    "    \n",
    "    plt.axis(\"off\")\n",
    "    plt.imshow(img)\n",
    "    plt.title(labels.get(data_sample.label[i]))\n",
    "    \n",
    "plt.tight_layout()\n",
    "plt.show()"
   ]
  },
  {
   "cell_type": "markdown",
   "metadata": {
    "id": "8fklKsmjo4pF"
   },
   "source": [
    "**Cassava Green Mottle (CGM)**"
   ]
  },
  {
   "cell_type": "code",
   "execution_count": null,
   "metadata": {
    "colab": {
     "base_uri": "https://localhost:8080/",
     "height": 36
    },
    "id": "8bEYPbXAo88J",
    "outputId": "ad569d34-69ef-4e99-f216-9392a82d9132"
   },
   "outputs": [],
   "source": [
    "labels.get(\"2\")"
   ]
  },
  {
   "cell_type": "code",
   "execution_count": null,
   "metadata": {
    "id": "R0Vi5A1fo9sR"
   },
   "outputs": [],
   "source": [
    "plt.figure(figsize=(15,12))\n",
    "data_sample = data[data.label==\"2\"].sample(4).reset_index(drop=True)\n",
    "for i in range(4):\n",
    "    plt.subplot(1,4,i+1)\n",
    "    \n",
    "    img = cv2.imread(WORK_DIR + \"train_images/\" + data_sample.image_id[i])\n",
    "    img = cv2.resize(img, (IMG_SIZE, IMG_SIZE))\n",
    "    img = cv2.cvtColor(img, cv2.COLOR_BGR2RGB)\n",
    "    \n",
    "    plt.axis(\"off\")\n",
    "    plt.imshow(img)\n",
    "    plt.title(labels.get(data_sample.label[i]))\n",
    "    \n",
    "plt.tight_layout()\n",
    "plt.show()"
   ]
  },
  {
   "cell_type": "markdown",
   "metadata": {
    "id": "2BN0cm4WpBEk"
   },
   "source": [
    "**Cassava Mosaic Disease (CMD)**"
   ]
  },
  {
   "cell_type": "code",
   "execution_count": null,
   "metadata": {
    "colab": {
     "base_uri": "https://localhost:8080/",
     "height": 36
    },
    "id": "pk7WBCZmpLZw",
    "outputId": "148c8e3b-74fa-4b1c-dda3-181246d11032"
   },
   "outputs": [],
   "source": [
    "labels.get(\"3\")"
   ]
  },
  {
   "cell_type": "code",
   "execution_count": null,
   "metadata": {
    "id": "m8ktTjSOpEw5"
   },
   "outputs": [],
   "source": [
    "plt.figure(figsize=(15,12))\n",
    "data_sample = data[data.label==\"3\"].sample(4).reset_index(drop=True)\n",
    "for i in range(4):\n",
    "    plt.subplot(1,4,i+1)\n",
    "    \n",
    "    img = cv2.imread(WORK_DIR + \"train_images/\" + data_sample.image_id[i])\n",
    "    img = cv2.resize(img, (IMG_SIZE, IMG_SIZE))\n",
    "    img = cv2.cvtColor(img, cv2.COLOR_BGR2RGB)\n",
    "    \n",
    "    plt.axis(\"off\")\n",
    "    plt.imshow(img)\n",
    "    plt.title(labels.get(data_sample.label[i]))\n",
    "    \n",
    "plt.tight_layout()\n",
    "plt.show()"
   ]
  },
  {
   "cell_type": "markdown",
   "metadata": {
    "id": "KT_bhkJPpHr9"
   },
   "source": [
    "**Healthy**"
   ]
  },
  {
   "cell_type": "code",
   "execution_count": null,
   "metadata": {
    "colab": {
     "base_uri": "https://localhost:8080/",
     "height": 36
    },
    "id": "kmgE76ZapJN5",
    "outputId": "13f56358-395b-4efa-8d2b-31a355b52db5"
   },
   "outputs": [],
   "source": [
    "labels.get(\"4\")"
   ]
  },
  {
   "cell_type": "code",
   "execution_count": null,
   "metadata": {
    "id": "MZll3wgspP_s"
   },
   "outputs": [],
   "source": [
    "plt.figure(figsize=(15,12))\n",
    "data_sample = data[data.label==\"4\"].sample(4).reset_index(drop=True)\n",
    "for i in range(4):\n",
    "    plt.subplot(1,4,i+1)\n",
    "    \n",
    "    img = cv2.imread(WORK_DIR + \"train_images/\" + data_sample.image_id[i])\n",
    "    img = cv2.resize(img, (IMG_SIZE, IMG_SIZE))\n",
    "    img = cv2.cvtColor(img, cv2.COLOR_BGR2RGB)\n",
    "    \n",
    "    plt.axis(\"off\")\n",
    "    plt.imshow(img)\n",
    "    plt.title(labels.get(data_sample.label[i]))\n",
    "    \n",
    "plt.tight_layout()\n",
    "plt.show()"
   ]
  },
  {
   "cell_type": "markdown",
   "metadata": {
    "id": "8HboWTxzpSva"
   },
   "source": [
    "**Image Preprocessing, Data Augmentation**\n",
    "\n",
    "**ImageDataGenerator**: Generate batches of tensor image data with real-time data augmentation\n",
    "\n",
    "**flow_from_dataframe**: Takes the dataframe and the path to a directory + generates batches. The generated batches contain augmentaed/normalized data."
   ]
  },
  {
   "cell_type": "code",
   "execution_count": null,
   "metadata": {
    "id": "yVhzwyUUp0Rd"
   },
   "outputs": [],
   "source": [
    "train_generator=ImageDataGenerator(rotation_range=270,\n",
    "                                   width_shift_range=0.2,\n",
    "                                   height_shift_range=0.2,\n",
    "                                   brightness_range=[0.1,0.9],\n",
    "                                   shear_range=25,\n",
    "                                   zoom_range=0.3,\n",
    "                                   channels_shift_range=0.2,\n",
    "                                   horizontal_flip=True,\n",
    "                                   vertical_flip=True,\n",
    "                                   validation_split=0.2).flow_from_dataframe(data,\n",
    "                                                                             directory=WORK_DIR+'train_images',\n",
    "                                                                             x_col='image_id',\n",
    "                                                                             y_col='label',\n",
    "                                                                             target_size=(IMG_SIZE, IMG_SIZE),\n",
    "                                                                             class_mode='categorical',\n",
    "                                                                             batch_size=32,\n",
    "                                                                             shuffle=True,\n",
    "                                                                             subset='training')"
   ]
  },
  {
   "cell_type": "code",
   "execution_count": null,
   "metadata": {
    "id": "aJLlBcISrSDC"
   },
   "outputs": [],
   "source": [
    "valid_generator=ImageDataGenerator(validation_split=0.2).flow_from_dataframe(data,\n",
    "                                                                             directory=WORK_DIR+'train_images',\n",
    "                                                                             x_col='image_id',\n",
    "                                                                             y_col='label',\n",
    "                                                                             target_size=(IMG_SIZE, IMG_SIZE),\n",
    "                                                                             class_mode='categorical',\n",
    "                                                                             batch_size=32,\n",
    "                                                                             shuffle=True,\n",
    "                                                                             subset='validation')"
   ]
  },
  {
   "cell_type": "code",
   "execution_count": null,
   "metadata": {
    "id": "QMwAJjt9r90E"
   },
   "outputs": [],
   "source": [
    "valid_generator.class_indices"
   ]
  },
  {
   "cell_type": "markdown",
   "metadata": {
    "id": "tMVb_SLwsC6W"
   },
   "source": [
    "**Model**"
   ]
  },
  {
   "cell_type": "code",
   "execution_count": null,
   "metadata": {
    "id": "rJXcUSomsB5y"
   },
   "outputs": [],
   "source": [
    "def modelEfficientNetB3():\n",
    "  model=models.Sequential()\n",
    "  model.add(EfficientNetB3(include_top=False, weights='imagenet',\n",
    "                           (IMG_SIZE, IMG_SIZE, 3)))\n",
    "  model.add(layers.GlobalAveragePooling2D())\n",
    "  model.add(layers.Dense(256, activation='relu'))\n",
    "  model.add(layers.Dropout(0,5))\n",
    "  model.add(layers.Dense(5, activation='softmax'))\n",
    "  return model\n",
    "\n"
   ]
  },
  {
   "cell_type": "code",
   "execution_count": null,
   "metadata": {
    "id": "pBltsuIGs7BD"
   },
   "outputs": [],
   "source": [
    "model = EfficientNetB3()"
   ]
  },
  {
   "cell_type": "code",
   "execution_count": null,
   "metadata": {
    "id": "y1kauA4etASz"
   },
   "outputs": [],
   "source": [
    "model.summary()"
   ]
  },
  {
   "cell_type": "code",
   "execution_count": null,
   "metadata": {
    "id": "-dbVZQGCtDMH"
   },
   "outputs": [],
   "source": [
    "from tensor.keras import utils\n",
    "utils.plot_model(model)"
   ]
  },
  {
   "cell_type": "markdown",
   "metadata": {
    "id": "4dpiRkUctMEN"
   },
   "source": [
    "**Callbacks**\n",
    "\n",
    "**ModelCheckpoint**: Callback to save the keras model or model weights at some frequency.\n",
    "\n",
    "**EarlyStopping**: Stop training when a monitored metric has stopped improving.\n",
    "\n",
    "**ReduceLROnPlateau**: Reduce learning rate when a metric has stopped improving."
   ]
  },
  {
   "cell_type": "code",
   "execution_count": null,
   "metadata": {
    "id": "9L1gFMy_tKTF"
   },
   "outputs": [],
   "source": [
    "model_check=ModelCheckpoint('./FirstTry.h5',\n",
    "                            monitor='val_loss',\n",
    "                            verbose=1,\n",
    "                            save_best_only=True,\n",
    "                            save_weights_only=False,\n",
    "                            mode='min'))"
   ]
  },
  {
   "cell_type": "code",
   "execution_count": null,
   "metadata": {
    "id": "m8btWUe1t3qt"
   },
   "outputs": [],
   "source": [
    "early_stop=EarlyStopping(monitor='val_loss',\n",
    "                         min_delta=0.001,\n",
    "                         patience=7,\n",
    "                         verbose=1,\n",
    "                         mode='min',\n",
    "                         restore_best_weights=False)"
   ]
  },
  {
   "cell_type": "code",
   "execution_count": null,
   "metadata": {
    "id": "uqi-gO8guJGx"
   },
   "outputs": [],
   "source": [
    "reduce_lr=ReduceLROnPlateau(monitor='val_loss',\n",
    "                            factor=0.1,\n",
    "                            patience=2,\n",
    "                            verbose=1,\n",
    "                            mode='min',\n",
    "                            min_delta=0.0001)"
   ]
  },
  {
   "cell_type": "code",
   "execution_count": null,
   "metadata": {
    "id": "7XNMFP_CuZRW"
   },
   "outputs": [],
   "source": [
    "model.compile(optimizer='adam',\n",
    "              loss=CategoricalCrossentropy(label_smoothing=0.3),\n",
    "                                           reduction='auto',\n",
    "              name='categorical_crossentropy',\n",
    "              metric=['accuracy'])"
   ]
  },
  {
   "cell_type": "code",
   "execution_count": null,
   "metadata": {
    "id": "8mtCaRpXuzlp"
   },
   "outputs": [],
   "source": [
    "history=model.fit_generator(train_generator,\n",
    "                            epochs=30,\n",
    "                            validation_data=valid_generator,\n",
    "                            callbacks=[model_check,early_stop,reduce_lr])"
   ]
  },
  {
   "cell_type": "code",
   "execution_count": null,
   "metadata": {
    "id": "aFUBpDFxvE_U"
   },
   "outputs": [],
   "source": [
    "plt.figure(figsize=(15,5))\n",
    "plt.plot(history.history['accuracy'], '*b-', label='train_acc')\n",
    "plt.plot(history.history['val_accuracy'], 'r*-', label='val_acc')\n",
    "plt.grid()\n",
    "plt.title('train_acc vs val_acc')\n",
    "plt.ylabel('Accuracy')\n",
    "plt.xlabel('Epochs')\n",
    "plt.legend()\n",
    "plt.show()"
   ]
  },
  {
   "cell_type": "code",
   "execution_count": null,
   "metadata": {
    "id": "Iry7ojAYvqmc"
   },
   "outputs": [],
   "source": [
    "plt.figure(figsize=(15,5))\n",
    "plt.plot(history.history['loss'], '*b-', label='train_loss')\n",
    "plt.plot(history.history['val_loss'], 'r*-', label='val_loss')\n",
    "plt.grid()\n",
    "plt.title('train_loss vs val_loss')\n",
    "plt.ylabel('Loss')\n",
    "plt.xlabel('Epochs')\n",
    "plt.legend()\n",
    "plt.show()"
   ]
  }
 ],
 "metadata": {
  "accelerator": "GPU",
  "colab": {
   "collapsed_sections": [],
   "name": "DL-on-Plant-Disease-KaggleChallenge-EfficientNet.ipynb",
   "provenance": []
  },
  "kernelspec": {
   "display_name": "Python 3",
   "language": "python",
   "name": "python3"
  },
  "language_info": {
   "codemirror_mode": {
    "name": "ipython",
    "version": 3
   },
   "file_extension": ".py",
   "mimetype": "text/x-python",
   "name": "python",
   "nbconvert_exporter": "python",
   "pygments_lexer": "ipython3",
   "version": "3.7.6"
  }
 },
 "nbformat": 4,
 "nbformat_minor": 1
}
