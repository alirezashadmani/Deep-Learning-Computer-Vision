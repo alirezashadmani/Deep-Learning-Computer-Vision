{
  "nbformat": 4,
  "nbformat_minor": 0,
  "metadata": {
    "colab": {
      "name": "flower_photos.ipynb",
      "provenance": [],
      "toc_visible": true,
      "include_colab_link": true
    },
    "kernelspec": {
      "display_name": "Python 3",
      "language": "python",
      "name": "python3"
    },
    "language_info": {
      "codemirror_mode": {
        "name": "ipython",
        "version": 3
      },
      "file_extension": ".py",
      "mimetype": "text/x-python",
      "name": "python",
      "nbconvert_exporter": "python",
      "pygments_lexer": "ipython3",
      "version": "3.7.6"
    }
  },
  "cells": [
    {
      "cell_type": "markdown",
      "metadata": {
        "id": "view-in-github",
        "colab_type": "text"
      },
      "source": [
        "<a href=\"https://colab.research.google.com/github/alirezashadmani/Deep-Learning-Course/blob/master/flower_photos.ipynb\" target=\"_parent\"><img src=\"https://colab.research.google.com/assets/colab-badge.svg\" alt=\"Open In Colab\"/></a>"
      ]
    },
    {
      "cell_type": "code",
      "metadata": {
        "colab_type": "code",
        "id": "T4wlD0-ZFBoU",
        "colab": {}
      },
      "source": [
        "from tensorflow.keras import models, layers\n",
        "from keras.preprocessing.image import ImageDataGenerator\n",
        "import os\n",
        "from google.colab import files\n",
        "import zipfile\n",
        "import random\n",
        "from shutil import copyfile\n",
        "from keras import optimizers\n",
        "import tensorflow as tf"
      ],
      "execution_count": null,
      "outputs": []
    },
    {
      "cell_type": "code",
      "metadata": {
        "colab_type": "code",
        "id": "g4A1BlFYFLsQ",
        "colab": {
          "base_uri": "https://localhost:8080/",
          "height": 54
        },
        "outputId": "0972960c-dcbe-485c-839e-2f488b53ed76"
      },
      "source": [
        "flowers_root = tf.keras.utils.get_file(\n",
        "    'flower_photos',\n",
        "    'https://storage.googleapis.com/download.tensorflow.org/example_images/flower_photos.tgz',\n",
        "    untar=True)\n"
      ],
      "execution_count": null,
      "outputs": [
        {
          "output_type": "stream",
          "text": [
            "Downloading data from https://storage.googleapis.com/download.tensorflow.org/example_images/flower_photos.tgz\n",
            "228818944/228813984 [==============================] - 2s 0us/step\n"
          ],
          "name": "stdout"
        }
      ]
    },
    {
      "cell_type": "code",
      "metadata": {
        "colab_type": "code",
        "id": "7CuaTupZFl93",
        "colab": {
          "base_uri": "https://localhost:8080/",
          "height": 36
        },
        "outputId": "42222684-c16e-4f69-91de-142bf98f0913"
      },
      "source": [
        "!ls /root/.keras/datasets/flower_photos"
      ],
      "execution_count": null,
      "outputs": [
        {
          "output_type": "stream",
          "text": [
            "daisy  dandelion  LICENSE.txt  roses  sunflowers  tulips\n"
          ],
          "name": "stdout"
        }
      ]
    },
    {
      "cell_type": "code",
      "metadata": {
        "colab_type": "code",
        "id": "tw8w4q-jHuf3",
        "colab": {}
      },
      "source": [
        "!mkdir /tmp/Dataset"
      ],
      "execution_count": null,
      "outputs": []
    },
    {
      "cell_type": "code",
      "metadata": {
        "colab_type": "code",
        "id": "gLTrZhQXG9vf",
        "colab": {}
      },
      "source": [
        "os.mkdir('/tmp/Dataset/train/')\n",
        "os.mkdir('/tmp/Dataset/test/')"
      ],
      "execution_count": null,
      "outputs": []
    },
    {
      "cell_type": "code",
      "metadata": {
        "colab_type": "code",
        "id": "r_mIYZ0XHzmN",
        "colab": {}
      },
      "source": [
        "os.mkdir('/tmp/Dataset/train/daisy/')\n",
        "os.mkdir('/tmp/Dataset/test/daisy/')\n",
        "os.mkdir('/tmp/Dataset/train/dandelion/')\n",
        "os.mkdir('/tmp/Dataset/test/dandelion')\n",
        "os.mkdir('/tmp/Dataset/train/roses/')\n",
        "os.mkdir('/tmp/Dataset/test/roses/')\n",
        "os.mkdir('/tmp/Dataset/train/sunflowers/')\n",
        "os.mkdir('/tmp/Dataset/test/sunflowers/')\n",
        "os.mkdir('/tmp/Dataset/train/tulips/')\n",
        "os.mkdir('/tmp/Dataset/test/tulips/')"
      ],
      "execution_count": null,
      "outputs": []
    },
    {
      "cell_type": "code",
      "metadata": {
        "colab_type": "code",
        "id": "E4pa6DZBJA6T",
        "colab": {}
      },
      "source": [
        "def split_data(SOURCE, TRAIN,TEST,SPLIT_SIZE):\n",
        "  data=os.listdir(SOURCE)\n",
        "  data_random=random.sample(data,len(data))\n",
        "  train_size=int(len(data_random)*SPLIT_SIZE)\n",
        "  for each_pic in data_random[:train_size]:\n",
        "    if os.path.getsize(SOURCE+each_pic) !=0:\n",
        "      copyfile(SOURCE+each_pic,TRAIN+each_pic)\n",
        "  for each_pic in data_random[train_size:]:\n",
        "    if os.path.getsize(SOURCE+each_pic) !=0:\n",
        "      copyfile(SOURCE+each_pic,TEST+each_pic)\n",
        "\n",
        "\n",
        "daisy='/root/.keras/datasets/flower_photos/daisy/'\n",
        "dandelion='/root/.keras/datasets/flower_photos/dandelion/'\n",
        "roses='/root/.keras/datasets/flower_photos/roses/'\n",
        "sunflowers='/root/.keras/datasets/flower_photos/sunflowers/'\n",
        "tulips='/root/.keras/datasets/flower_photos/tulips/'\n",
        "\n",
        "\n",
        "\n",
        "\n",
        "\n",
        "sunflowers_train='/tmp/Dataset/train/sunflowers/'\n",
        "sunflowers_test='/tmp/Dataset/test/sunflowers/'\n",
        "daisy_train='/tmp/Dataset/train/daisy/'\n",
        "daisy_test='/tmp/Dataset/test/daisy/'\n",
        "dandelion_train='/tmp/Dataset/train/dandelion/'\n",
        "dandelion_test='/tmp/Dataset/test/dandelion'\n",
        "roses_train='/tmp/Dataset/train/roses/'\n",
        "roses_test='/tmp/Dataset/test/roses/'\n",
        "tulips_train='/tmp/Dataset/train/tulips/'\n",
        "tulips_test='/tmp/Dataset/test/tulips/'\n",
        "\n",
        "split_data(daisy,daisy_train,daisy_test,0.85)\n",
        "split_data(dandelion,dandelion_train,dandelion_test,0.85)\n",
        "split_data(roses,roses_train,roses_test,0.85)\n",
        "split_data(sunflowers,sunflowers_train,sunflowers_test,0.85)\n",
        "split_data(tulips,tulips_train,tulips_test,0.85)"
      ],
      "execution_count": null,
      "outputs": []
    },
    {
      "cell_type": "code",
      "metadata": {
        "colab_type": "code",
        "id": "cCyso06n8L_0",
        "colab": {
          "base_uri": "https://localhost:8080/",
          "height": 54
        },
        "outputId": "f8502d15-d571-416f-b38b-3db7230c5208"
      },
      "source": [
        "train_datagen = ImageDataGenerator(\n",
        "    rescale=1./255,\n",
        "    rotation_range=40,\n",
        "    width_shift_range=0.2,\n",
        "    height_shift_range=0.2,\n",
        "    shear_range=0.2,\n",
        "    zoom_range=0.2,\n",
        "    horizontal_flip=True)\n",
        "\n",
        "test_datagen = ImageDataGenerator(rescale=1./255)\n",
        "\n",
        "train_gen=train_datagen.flow_from_directory('/tmp/Dataset/train/',batch_size=50,target_size=(150,150),class_mode='categorical')\n",
        "test_gen=test_datagen.flow_from_directory('/tmp/Dataset/test/',batch_size=50,target_size=(150,150),class_mode='categorical')"
      ],
      "execution_count": null,
      "outputs": [
        {
          "output_type": "stream",
          "text": [
            "Found 3118 images belonging to 5 classes.\n",
            "Found 417 images belonging to 5 classes.\n"
          ],
          "name": "stdout"
        }
      ]
    },
    {
      "cell_type": "code",
      "metadata": {
        "colab_type": "code",
        "id": "iSV_4oTK9r2g",
        "colab": {}
      },
      "source": [
        "Network=models.Sequential([\n",
        "                            layers.Conv2D(32, (3,3), input_shape=(150,150,3), activation='relu',padding='same' ),\n",
        "                            layers.Conv2D(32, (3,3),  activation='relu',padding='same' ),\n",
        "                            layers.MaxPool2D((2,2)),\n",
        "                            \n",
        "                            layers.Flatten(),\n",
        "                            layers.Dense(20,activation='relu'),\n",
        "                            layers.Dropout(0.5),\n",
        "                            layers.Dense(5,activation='softmax')\n",
        "                            ])"
      ],
      "execution_count": null,
      "outputs": []
    },
    {
      "cell_type": "code",
      "metadata": {
        "colab_type": "code",
        "id": "3J7W2QH4-ozD",
        "colab": {
          "base_uri": "https://localhost:8080/",
          "height": 445
        },
        "outputId": "f577d972-4853-4303-dc03-f8a24c0ab3d1"
      },
      "source": [
        "print(Network.summary())\n",
        "Network.compile(loss='categorical_crossentropy',\n",
        "              optimizer='adam',\n",
        "              metrics=['accuracy'])"
      ],
      "execution_count": null,
      "outputs": [
        {
          "output_type": "stream",
          "text": [
            "Model: \"sequential_3\"\n",
            "_________________________________________________________________\n",
            "Layer (type)                 Output Shape              Param #   \n",
            "=================================================================\n",
            "conv2d_6 (Conv2D)            (None, 150, 150, 32)      896       \n",
            "_________________________________________________________________\n",
            "conv2d_7 (Conv2D)            (None, 150, 150, 32)      9248      \n",
            "_________________________________________________________________\n",
            "max_pooling2d_3 (MaxPooling2 (None, 75, 75, 32)        0         \n",
            "_________________________________________________________________\n",
            "flatten_3 (Flatten)          (None, 180000)            0         \n",
            "_________________________________________________________________\n",
            "dense_7 (Dense)              (None, 20)                3600020   \n",
            "_________________________________________________________________\n",
            "dropout_5 (Dropout)          (None, 20)                0         \n",
            "_________________________________________________________________\n",
            "dense_8 (Dense)              (None, 5)                 105       \n",
            "=================================================================\n",
            "Total params: 3,610,269\n",
            "Trainable params: 3,610,269\n",
            "Non-trainable params: 0\n",
            "_________________________________________________________________\n",
            "None\n"
          ],
          "name": "stdout"
        }
      ]
    },
    {
      "cell_type": "code",
      "metadata": {
        "colab_type": "code",
        "id": "sVgu2VuZ_Ihv",
        "colab": {
          "base_uri": "https://localhost:8080/",
          "height": 1000
        },
        "outputId": "f12b7553-3332-4547-c46e-d5b14ddcfa35"
      },
      "source": [
        " history=Network.fit_generator(generator=train_gen,\n",
        "                      steps_per_epoch=3118//50,\n",
        "                      epochs=40,\n",
        "                      validation_data=test_gen,\n",
        "                      validation_steps=417//50)"
      ],
      "execution_count": null,
      "outputs": [
        {
          "output_type": "stream",
          "text": [
            "Epoch 1/40\n",
            "62/62 [==============================] - 186s 3s/step - loss: 1.8905 - accuracy: 0.2731 - val_loss: 1.3255 - val_accuracy: 0.4725\n",
            "Epoch 2/40\n",
            "62/62 [==============================] - 181s 3s/step - loss: 1.4129 - accuracy: 0.3801 - val_loss: 1.2821 - val_accuracy: 0.4775\n",
            "Epoch 3/40\n",
            "62/62 [==============================] - 182s 3s/step - loss: 1.3594 - accuracy: 0.4117 - val_loss: 1.1835 - val_accuracy: 0.4975\n",
            "Epoch 4/40\n",
            "62/62 [==============================] - 186s 3s/step - loss: 1.3164 - accuracy: 0.4146 - val_loss: 1.2480 - val_accuracy: 0.4950\n",
            "Epoch 5/40\n",
            "62/62 [==============================] - 181s 3s/step - loss: 1.2944 - accuracy: 0.4260 - val_loss: 1.1984 - val_accuracy: 0.4975\n",
            "Epoch 6/40\n",
            "62/62 [==============================] - 182s 3s/step - loss: 1.2686 - accuracy: 0.4374 - val_loss: 1.1616 - val_accuracy: 0.5425\n",
            "Epoch 7/40\n",
            "62/62 [==============================] - 185s 3s/step - loss: 1.2293 - accuracy: 0.4641 - val_loss: 1.1473 - val_accuracy: 0.5525\n",
            "Epoch 8/40\n",
            "62/62 [==============================] - 182s 3s/step - loss: 1.1845 - accuracy: 0.4857 - val_loss: 1.0869 - val_accuracy: 0.5400\n",
            "Epoch 9/40\n",
            "62/62 [==============================] - 182s 3s/step - loss: 1.2067 - accuracy: 0.4892 - val_loss: 1.0747 - val_accuracy: 0.6000\n",
            "Epoch 10/40\n",
            "62/62 [==============================] - 185s 3s/step - loss: 1.2010 - accuracy: 0.4827 - val_loss: 1.0667 - val_accuracy: 0.6350\n",
            "Epoch 11/40\n",
            "62/62 [==============================] - 181s 3s/step - loss: 1.1670 - accuracy: 0.4932 - val_loss: 1.0968 - val_accuracy: 0.5600\n",
            "Epoch 12/40\n",
            "62/62 [==============================] - 180s 3s/step - loss: 1.1668 - accuracy: 0.5101 - val_loss: 1.0094 - val_accuracy: 0.6000\n",
            "Epoch 13/40\n",
            "62/62 [==============================] - 181s 3s/step - loss: 1.1719 - accuracy: 0.5137 - val_loss: 1.0109 - val_accuracy: 0.6000\n",
            "Epoch 14/40\n",
            "62/62 [==============================] - 186s 3s/step - loss: 1.1278 - accuracy: 0.5420 - val_loss: 1.0069 - val_accuracy: 0.6500\n",
            "Epoch 15/40\n",
            "62/62 [==============================] - 181s 3s/step - loss: 1.1446 - accuracy: 0.5284 - val_loss: 0.9908 - val_accuracy: 0.6250\n",
            "Epoch 16/40\n",
            "62/62 [==============================] - 182s 3s/step - loss: 1.1296 - accuracy: 0.5375 - val_loss: 1.0769 - val_accuracy: 0.5525\n",
            "Epoch 17/40\n",
            "62/62 [==============================] - 185s 3s/step - loss: 1.1293 - accuracy: 0.5434 - val_loss: 1.0736 - val_accuracy: 0.5750\n",
            "Epoch 18/40\n",
            "62/62 [==============================] - 182s 3s/step - loss: 1.1176 - accuracy: 0.5583 - val_loss: 1.0060 - val_accuracy: 0.6025\n",
            "Epoch 19/40\n",
            "62/62 [==============================] - 182s 3s/step - loss: 1.0892 - accuracy: 0.5583 - val_loss: 1.0262 - val_accuracy: 0.6300\n",
            "Epoch 20/40\n",
            "62/62 [==============================] - 186s 3s/step - loss: 1.0943 - accuracy: 0.5606 - val_loss: 0.9718 - val_accuracy: 0.6400\n",
            "Epoch 21/40\n",
            "62/62 [==============================] - 182s 3s/step - loss: 1.0821 - accuracy: 0.5554 - val_loss: 1.0663 - val_accuracy: 0.5950\n",
            "Epoch 22/40\n",
            "62/62 [==============================] - 182s 3s/step - loss: 1.0814 - accuracy: 0.5580 - val_loss: 1.0169 - val_accuracy: 0.5900\n",
            "Epoch 23/40\n",
            "62/62 [==============================] - 186s 3s/step - loss: 1.0919 - accuracy: 0.5564 - val_loss: 0.9686 - val_accuracy: 0.6325\n",
            "Epoch 24/40\n",
            "62/62 [==============================] - 184s 3s/step - loss: 1.0923 - accuracy: 0.5557 - val_loss: 0.9921 - val_accuracy: 0.6300\n",
            "Epoch 25/40\n",
            "62/62 [==============================] - 183s 3s/step - loss: 1.0550 - accuracy: 0.5590 - val_loss: 0.9599 - val_accuracy: 0.6125\n",
            "Epoch 26/40\n",
            "62/62 [==============================] - 183s 3s/step - loss: 1.0741 - accuracy: 0.5645 - val_loss: 1.0132 - val_accuracy: 0.6050\n",
            "Epoch 27/40\n",
            "62/62 [==============================] - 186s 3s/step - loss: 1.0730 - accuracy: 0.5632 - val_loss: 0.9952 - val_accuracy: 0.6000\n",
            "Epoch 28/40\n",
            "62/62 [==============================] - 183s 3s/step - loss: 1.0666 - accuracy: 0.5720 - val_loss: 0.9642 - val_accuracy: 0.6275\n",
            "Epoch 29/40\n",
            "62/62 [==============================] - 183s 3s/step - loss: 1.0399 - accuracy: 0.5613 - val_loss: 0.9699 - val_accuracy: 0.6225\n",
            "Epoch 30/40\n",
            "62/62 [==============================] - 187s 3s/step - loss: 1.0426 - accuracy: 0.5675 - val_loss: 0.9830 - val_accuracy: 0.6175\n",
            "Epoch 31/40\n",
            "62/62 [==============================] - 184s 3s/step - loss: 1.0453 - accuracy: 0.5711 - val_loss: 1.0463 - val_accuracy: 0.6000\n",
            "Epoch 32/40\n",
            "62/62 [==============================] - 184s 3s/step - loss: 1.0707 - accuracy: 0.5570 - val_loss: 1.0951 - val_accuracy: 0.5725\n",
            "Epoch 33/40\n",
            "62/62 [==============================] - 189s 3s/step - loss: 1.0620 - accuracy: 0.5756 - val_loss: 0.9642 - val_accuracy: 0.6550\n",
            "Epoch 34/40\n",
            "62/62 [==============================] - 184s 3s/step - loss: 1.0472 - accuracy: 0.5707 - val_loss: 0.9751 - val_accuracy: 0.5950\n",
            "Epoch 35/40\n",
            "62/62 [==============================] - 184s 3s/step - loss: 1.0663 - accuracy: 0.5603 - val_loss: 1.0016 - val_accuracy: 0.6300\n",
            "Epoch 36/40\n",
            "62/62 [==============================] - 189s 3s/step - loss: 1.0306 - accuracy: 0.5580 - val_loss: 0.9501 - val_accuracy: 0.6300\n",
            "Epoch 37/40\n",
            "62/62 [==============================] - 184s 3s/step - loss: 1.0247 - accuracy: 0.5724 - val_loss: 0.9377 - val_accuracy: 0.6300\n",
            "Epoch 38/40\n",
            "62/62 [==============================] - 184s 3s/step - loss: 1.0227 - accuracy: 0.5746 - val_loss: 0.9536 - val_accuracy: 0.6450\n",
            "Epoch 39/40\n",
            "62/62 [==============================] - 183s 3s/step - loss: 1.0198 - accuracy: 0.5769 - val_loss: 0.9569 - val_accuracy: 0.6450\n",
            "Epoch 40/40\n",
            "62/62 [==============================] - 186s 3s/step - loss: 1.0082 - accuracy: 0.5834 - val_loss: 1.0282 - val_accuracy: 0.5825\n"
          ],
          "name": "stdout"
        }
      ]
    },
    {
      "cell_type": "code",
      "metadata": {
        "colab_type": "code",
        "id": "hwWTGVcGlmid",
        "colab": {
          "base_uri": "https://localhost:8080/",
          "height": 545
        },
        "outputId": "97013deb-4c5e-48a4-ce7d-2c47dd282441"
      },
      "source": [
        "import matplotlib.pyplot as plt\n",
        "%matplotlib inline\n",
        "acc = history.history['accuracy']\n",
        "val_acc = history.history['val_accuracy']\n",
        "loss = history.history['loss']\n",
        "val_loss = history.history['val_loss']\n",
        "\n",
        "epochs = range(len(acc))\n",
        "\n",
        "plt.plot(epochs, acc, 'bo', label='Training acc')\n",
        "plt.plot(epochs, val_acc, 'b', label='Validation acc')\n",
        "plt.title('Training and validation accuracy')\n",
        "plt.legend()\n",
        "\n",
        "plt.figure()\n",
        "\n",
        "plt.plot(epochs, loss, 'bo', label='Training loss')\n",
        "plt.plot(epochs, val_loss, 'b', label='Validation loss')\n",
        "plt.title('Training and validation loss')\n",
        "plt.legend()\n",
        "\n",
        "plt.show()"
      ],
      "execution_count": null,
      "outputs": [
        {
          "output_type": "display_data",
          "data": {
            "image/png": "[encoded data removed]",
            "text/plain": [
              "<Figure size 432x288 with 1 Axes>"
            ]
          },
          "metadata": {
            "tags": [],
            "needs_background": "light"
          }
        },
        {
          "output_type": "display_data",
          "data": {
            "image/png": "[encoded data removed]",
            "text/plain": [
              "<Figure size 432x288 with 1 Axes>"
            ]
          },
          "metadata": {
            "tags": [],
            "needs_background": "light"
          }
        }
      ]
    }
  ]
}