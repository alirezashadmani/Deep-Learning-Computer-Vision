{
 "cells": [
  {
   "cell_type": "code",
   "execution_count": 1,
   "metadata": {},
   "outputs": [
    {
     "name": "stderr",
     "output_type": "stream",
     "text": [
      "Using TensorFlow backend.\n",
      "C:\\Users\\shadm\\anaconda3\\lib\\site-packages\\tensorflow\\python\\framework\\dtypes.py:516: FutureWarning: Passing (type, 1) or '1type' as a synonym of type is deprecated; in a future version of numpy, it will be understood as (type, (1,)) / '(1,)type'.\n",
      "  _np_qint8 = np.dtype([(\"qint8\", np.int8, 1)])\n",
      "C:\\Users\\shadm\\anaconda3\\lib\\site-packages\\tensorflow\\python\\framework\\dtypes.py:517: FutureWarning: Passing (type, 1) or '1type' as a synonym of type is deprecated; in a future version of numpy, it will be understood as (type, (1,)) / '(1,)type'.\n",
      "  _np_quint8 = np.dtype([(\"quint8\", np.uint8, 1)])\n",
      "C:\\Users\\shadm\\anaconda3\\lib\\site-packages\\tensorflow\\python\\framework\\dtypes.py:518: FutureWarning: Passing (type, 1) or '1type' as a synonym of type is deprecated; in a future version of numpy, it will be understood as (type, (1,)) / '(1,)type'.\n",
      "  _np_qint16 = np.dtype([(\"qint16\", np.int16, 1)])\n",
      "C:\\Users\\shadm\\anaconda3\\lib\\site-packages\\tensorflow\\python\\framework\\dtypes.py:519: FutureWarning: Passing (type, 1) or '1type' as a synonym of type is deprecated; in a future version of numpy, it will be understood as (type, (1,)) / '(1,)type'.\n",
      "  _np_quint16 = np.dtype([(\"quint16\", np.uint16, 1)])\n",
      "C:\\Users\\shadm\\anaconda3\\lib\\site-packages\\tensorflow\\python\\framework\\dtypes.py:520: FutureWarning: Passing (type, 1) or '1type' as a synonym of type is deprecated; in a future version of numpy, it will be understood as (type, (1,)) / '(1,)type'.\n",
      "  _np_qint32 = np.dtype([(\"qint32\", np.int32, 1)])\n",
      "C:\\Users\\shadm\\anaconda3\\lib\\site-packages\\tensorflow\\python\\framework\\dtypes.py:525: FutureWarning: Passing (type, 1) or '1type' as a synonym of type is deprecated; in a future version of numpy, it will be understood as (type, (1,)) / '(1,)type'.\n",
      "  np_resource = np.dtype([(\"resource\", np.ubyte, 1)])\n",
      "C:\\Users\\shadm\\anaconda3\\lib\\site-packages\\tensorboard\\compat\\tensorflow_stub\\dtypes.py:541: FutureWarning: Passing (type, 1) or '1type' as a synonym of type is deprecated; in a future version of numpy, it will be understood as (type, (1,)) / '(1,)type'.\n",
      "  _np_qint8 = np.dtype([(\"qint8\", np.int8, 1)])\n",
      "C:\\Users\\shadm\\anaconda3\\lib\\site-packages\\tensorboard\\compat\\tensorflow_stub\\dtypes.py:542: FutureWarning: Passing (type, 1) or '1type' as a synonym of type is deprecated; in a future version of numpy, it will be understood as (type, (1,)) / '(1,)type'.\n",
      "  _np_quint8 = np.dtype([(\"quint8\", np.uint8, 1)])\n",
      "C:\\Users\\shadm\\anaconda3\\lib\\site-packages\\tensorboard\\compat\\tensorflow_stub\\dtypes.py:543: FutureWarning: Passing (type, 1) or '1type' as a synonym of type is deprecated; in a future version of numpy, it will be understood as (type, (1,)) / '(1,)type'.\n",
      "  _np_qint16 = np.dtype([(\"qint16\", np.int16, 1)])\n",
      "C:\\Users\\shadm\\anaconda3\\lib\\site-packages\\tensorboard\\compat\\tensorflow_stub\\dtypes.py:544: FutureWarning: Passing (type, 1) or '1type' as a synonym of type is deprecated; in a future version of numpy, it will be understood as (type, (1,)) / '(1,)type'.\n",
      "  _np_quint16 = np.dtype([(\"quint16\", np.uint16, 1)])\n",
      "C:\\Users\\shadm\\anaconda3\\lib\\site-packages\\tensorboard\\compat\\tensorflow_stub\\dtypes.py:545: FutureWarning: Passing (type, 1) or '1type' as a synonym of type is deprecated; in a future version of numpy, it will be understood as (type, (1,)) / '(1,)type'.\n",
      "  _np_qint32 = np.dtype([(\"qint32\", np.int32, 1)])\n",
      "C:\\Users\\shadm\\anaconda3\\lib\\site-packages\\tensorboard\\compat\\tensorflow_stub\\dtypes.py:550: FutureWarning: Passing (type, 1) or '1type' as a synonym of type is deprecated; in a future version of numpy, it will be understood as (type, (1,)) / '(1,)type'.\n",
      "  np_resource = np.dtype([(\"resource\", np.ubyte, 1)])\n"
     ]
    }
   ],
   "source": [
    "import pandas as pd\n",
    "import numpy as np\n",
    "from keras.models import Sequential\n",
    "from keras.layers import Dense, SimpleRNN\n",
    "import matplotlib.pyplot as plt\n",
    "%matplotlib inline\n",
    "\n",
    "t = np.arange(0,1500)\n",
    "x = np.sin(0.02*t)+ np.random.rand(1500) * 2\n",
    "\n",
    "train,test = x[0:1000], x[1000:]\n",
    "\n",
    "# convert into dataset data and label\n",
    "def convertToDataset(data, step):\n",
    "    #data = np.append(data,np.repeat(data[-1,],step))\n",
    "    X, Y =[], []\n",
    "    for i in range(len(data)-step):\n",
    "        d=i+step  \n",
    "        X.append(data[i:d,])\n",
    "        Y.append(data[d,])\n",
    "    return np.array(X), np.array(Y)"
   ]
  },
  {
   "cell_type": "code",
   "execution_count": 2,
   "metadata": {},
   "outputs": [],
   "source": [
    "train_step = 10\n",
    "test_step = 20\n",
    "\n",
    "trainX,trainY =convertToDataset(train,train_step)\n",
    "testX,testY =convertToDataset(test,test_step)\n",
    "\n",
    "trainX = np.reshape(trainX, (trainX.shape[0],  trainX.shape[1], 1))\n",
    "testX = np.reshape(testX, (testX.shape[0],testX.shape[1], 1))"
   ]
  },
  {
   "cell_type": "code",
   "execution_count": 3,
   "metadata": {},
   "outputs": [
    {
     "name": "stdout",
     "output_type": "stream",
     "text": [
      "(990, 10, 1)\n",
      "(480, 20, 1)\n"
     ]
    }
   ],
   "source": [
    "print(trainX.shape)\n",
    "print(testX.shape)"
   ]
  },
  {
   "cell_type": "code",
   "execution_count": 4,
   "metadata": {},
   "outputs": [],
   "source": [
    "model = Sequential()\n",
    "model.add(SimpleRNN(units=64, input_shape=(None, 1),  activation=\"tanh\"))\n",
    "model.add(Dense(1))\n",
    "model.compile(loss='mean_squared_error', optimizer='rmsprop')"
   ]
  },
  {
   "cell_type": "code",
   "execution_count": 5,
   "metadata": {},
   "outputs": [
    {
     "name": "stdout",
     "output_type": "stream",
     "text": [
      "Model: \"sequential_1\"\n",
      "_________________________________________________________________\n",
      "Layer (type)                 Output Shape              Param #   \n",
      "=================================================================\n",
      "simple_rnn_1 (SimpleRNN)     (None, 64)                4224      \n",
      "_________________________________________________________________\n",
      "dense_1 (Dense)              (None, 1)                 65        \n",
      "=================================================================\n",
      "Total params: 4,289\n",
      "Trainable params: 4,289\n",
      "Non-trainable params: 0\n",
      "_________________________________________________________________\n"
     ]
    }
   ],
   "source": [
    "model.summary()"
   ]
  },
  {
   "cell_type": "code",
   "execution_count": 6,
   "metadata": {},
   "outputs": [
    {
     "data": {
      "text/plain": [
       "<tf.Tensor 'simple_rnn_1_input:0' shape=(?, ?, 1) dtype=float32>"
      ]
     },
     "execution_count": 6,
     "metadata": {},
     "output_type": "execute_result"
    }
   ],
   "source": [
    "model.input"
   ]
  },
  {
   "cell_type": "code",
   "execution_count": 7,
   "metadata": {},
   "outputs": [
    {
     "name": "stdout",
     "output_type": "stream",
     "text": [
      "WARNING:tensorflow:From C:\\Users\\shadm\\anaconda3\\lib\\site-packages\\keras\\backend\\tensorflow_backend.py:422: The name tf.global_variables is deprecated. Please use tf.compat.v1.global_variables instead.\n",
      "\n",
      "Epoch 1/100\n",
      " - 0s - loss: 0.4427\n",
      "Epoch 2/100\n",
      " - 0s - loss: 0.3899\n",
      "Epoch 3/100\n",
      " - 0s - loss: 0.3860\n",
      "Epoch 4/100\n",
      " - 0s - loss: 0.3734\n",
      "Epoch 5/100\n",
      " - 0s - loss: 0.3748\n",
      "Epoch 6/100\n",
      " - 0s - loss: 0.3753\n",
      "Epoch 7/100\n",
      " - 0s - loss: 0.3701\n",
      "Epoch 8/100\n",
      " - 0s - loss: 0.3667\n",
      "Epoch 9/100\n",
      " - 0s - loss: 0.3653\n",
      "Epoch 10/100\n",
      " - 0s - loss: 0.3602\n",
      "Epoch 11/100\n",
      " - 0s - loss: 0.3588\n",
      "Epoch 12/100\n",
      " - 0s - loss: 0.3510\n",
      "Epoch 13/100\n",
      " - 0s - loss: 0.3551\n",
      "Epoch 14/100\n",
      " - 0s - loss: 0.3457\n",
      "Epoch 15/100\n",
      " - 0s - loss: 0.3451\n",
      "Epoch 16/100\n",
      " - 0s - loss: 0.3489\n",
      "Epoch 17/100\n",
      " - 0s - loss: 0.3447\n",
      "Epoch 18/100\n",
      " - 0s - loss: 0.3450\n",
      "Epoch 19/100\n",
      " - 0s - loss: 0.3433\n",
      "Epoch 20/100\n",
      " - 0s - loss: 0.3338\n",
      "Epoch 21/100\n",
      " - 0s - loss: 0.3403\n",
      "Epoch 22/100\n",
      " - 0s - loss: 0.3397\n",
      "Epoch 23/100\n",
      " - 0s - loss: 0.3372\n",
      "Epoch 24/100\n",
      " - 0s - loss: 0.3301\n",
      "Epoch 25/100\n",
      " - 0s - loss: 0.3284\n",
      "Epoch 26/100\n",
      " - 0s - loss: 0.3250\n",
      "Epoch 27/100\n",
      " - 0s - loss: 0.3281\n",
      "Epoch 28/100\n",
      " - 0s - loss: 0.3285\n",
      "Epoch 29/100\n",
      " - 0s - loss: 0.3265\n",
      "Epoch 30/100\n",
      " - 0s - loss: 0.3251\n",
      "Epoch 31/100\n",
      " - 0s - loss: 0.3131\n",
      "Epoch 32/100\n",
      " - 0s - loss: 0.3209\n",
      "Epoch 33/100\n",
      " - 0s - loss: 0.3154\n",
      "Epoch 34/100\n",
      " - 0s - loss: 0.3129\n",
      "Epoch 35/100\n",
      " - 0s - loss: 0.3160\n",
      "Epoch 36/100\n",
      " - 0s - loss: 0.3118\n",
      "Epoch 37/100\n",
      " - 0s - loss: 0.3028\n",
      "Epoch 38/100\n",
      " - 0s - loss: 0.3025\n",
      "Epoch 39/100\n",
      " - 0s - loss: 0.3112\n",
      "Epoch 40/100\n",
      " - 0s - loss: 0.3022\n",
      "Epoch 41/100\n",
      " - 0s - loss: 0.2988\n",
      "Epoch 42/100\n",
      " - 0s - loss: 0.2983\n",
      "Epoch 43/100\n",
      " - 0s - loss: 0.2900\n",
      "Epoch 44/100\n",
      " - 0s - loss: 0.2878\n",
      "Epoch 45/100\n",
      " - 0s - loss: 0.2840\n",
      "Epoch 46/100\n",
      " - 0s - loss: 0.2856\n",
      "Epoch 47/100\n",
      " - 0s - loss: 0.2778\n",
      "Epoch 48/100\n",
      " - 0s - loss: 0.2781\n",
      "Epoch 49/100\n",
      " - 0s - loss: 0.2692\n",
      "Epoch 50/100\n",
      " - 0s - loss: 0.2719\n",
      "Epoch 51/100\n",
      " - 0s - loss: 0.2635\n",
      "Epoch 52/100\n",
      " - 0s - loss: 0.2646\n",
      "Epoch 53/100\n",
      " - 0s - loss: 0.2509\n",
      "Epoch 54/100\n",
      " - 0s - loss: 0.2560\n",
      "Epoch 55/100\n",
      " - 0s - loss: 0.2455\n",
      "Epoch 56/100\n",
      " - 0s - loss: 0.2460\n",
      "Epoch 57/100\n",
      " - 0s - loss: 0.2494\n",
      "Epoch 58/100\n",
      " - 0s - loss: 0.2363\n",
      "Epoch 59/100\n",
      " - 0s - loss: 0.2367\n",
      "Epoch 60/100\n",
      " - 0s - loss: 0.2316\n",
      "Epoch 61/100\n",
      " - 0s - loss: 0.2236\n",
      "Epoch 62/100\n",
      " - 0s - loss: 0.2220\n",
      "Epoch 63/100\n",
      " - 0s - loss: 0.2221\n",
      "Epoch 64/100\n",
      " - 0s - loss: 0.2158\n",
      "Epoch 65/100\n",
      " - 0s - loss: 0.2146\n",
      "Epoch 66/100\n",
      " - 0s - loss: 0.2006\n",
      "Epoch 67/100\n",
      " - 0s - loss: 0.2071\n",
      "Epoch 68/100\n",
      " - 0s - loss: 0.1980\n",
      "Epoch 69/100\n",
      " - 0s - loss: 0.1951\n",
      "Epoch 70/100\n",
      " - 0s - loss: 0.1898\n",
      "Epoch 71/100\n",
      " - 0s - loss: 0.1893\n",
      "Epoch 72/100\n",
      " - 0s - loss: 0.1848\n",
      "Epoch 73/100\n",
      " - 0s - loss: 0.1796\n",
      "Epoch 74/100\n",
      " - 0s - loss: 0.1748\n",
      "Epoch 75/100\n",
      " - 0s - loss: 0.1734\n",
      "Epoch 76/100\n",
      " - 0s - loss: 0.1693\n",
      "Epoch 77/100\n",
      " - 0s - loss: 0.1673\n",
      "Epoch 78/100\n",
      " - 0s - loss: 0.1603\n",
      "Epoch 79/100\n",
      " - 0s - loss: 0.1592\n",
      "Epoch 80/100\n",
      " - 0s - loss: 0.1512\n",
      "Epoch 81/100\n",
      " - 0s - loss: 0.1559\n",
      "Epoch 82/100\n",
      " - 0s - loss: 0.1487\n",
      "Epoch 83/100\n",
      " - 0s - loss: 0.1467\n",
      "Epoch 84/100\n",
      " - 0s - loss: 0.1418\n",
      "Epoch 85/100\n",
      " - 0s - loss: 0.1384\n",
      "Epoch 86/100\n",
      " - 0s - loss: 0.1367\n",
      "Epoch 87/100\n",
      " - 0s - loss: 0.1336\n",
      "Epoch 88/100\n",
      " - 0s - loss: 0.1310\n",
      "Epoch 89/100\n",
      " - 0s - loss: 0.1282\n",
      "Epoch 90/100\n",
      " - 0s - loss: 0.1238\n",
      "Epoch 91/100\n",
      " - 0s - loss: 0.1263\n",
      "Epoch 92/100\n",
      " - 0s - loss: 0.1234\n",
      "Epoch 93/100\n",
      " - 0s - loss: 0.1159\n",
      "Epoch 94/100\n",
      " - 0s - loss: 0.1128\n",
      "Epoch 95/100\n",
      " - 0s - loss: 0.1120\n",
      "Epoch 96/100\n",
      " - 0s - loss: 0.1108\n",
      "Epoch 97/100\n",
      " - 0s - loss: 0.1085\n",
      "Epoch 98/100\n",
      " - 0s - loss: 0.1039\n",
      "Epoch 99/100\n",
      " - 0s - loss: 0.0988\n",
      "Epoch 100/100\n",
      " - 0s - loss: 0.1021\n"
     ]
    }
   ],
   "source": [
    "history = model.fit(trainX,trainY, epochs=100, batch_size=16, verbose=2)"
   ]
  },
  {
   "cell_type": "code",
   "execution_count": 8,
   "metadata": {},
   "outputs": [],
   "source": [
    "trainPredict = model.predict(trainX)\n",
    "testPredict= model.predict(testX)\n",
    "predicted=np.concatenate((trainPredict,testPredict),axis=0)"
   ]
  },
  {
   "cell_type": "code",
   "execution_count": 9,
   "metadata": {},
   "outputs": [
    {
     "data": {
      "image/png": "[encoded data removed]",
      "text/plain": [
       "<Figure size 432x288 with 1 Axes>"
      ]
     },
     "metadata": {
      "needs_background": "light"
     },
     "output_type": "display_data"
    }
   ],
   "source": [
    "plt.plot(x)\n",
    "plt.plot(predicted)\n",
    "plt.axvline(len(trainX), c=\"r\")\n",
    "plt.show()"
   ]
  },
  {
   "cell_type": "code",
   "execution_count": null,
   "metadata": {},
   "outputs": [],
   "source": []
  }
 ],
 "metadata": {
  "kernelspec": {
   "display_name": "Python 3",
   "language": "python",
   "name": "python3"
  },
  "language_info": {
   "codemirror_mode": {
    "name": "ipython",
    "version": 3
   },
   "file_extension": ".py",
   "mimetype": "text/x-python",
   "name": "python",
   "nbconvert_exporter": "python",
   "pygments_lexer": "ipython3",
   "version": "3.7.6"
  }
 },
 "nbformat": 4,
 "nbformat_minor": 4
}
