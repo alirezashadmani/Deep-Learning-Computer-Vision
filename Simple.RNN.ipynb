{
 "cells": [
  {
   "cell_type": "code",
   "execution_count": 1,
   "metadata": {},
   "outputs": [],
   "source": [
    "import pandas as pd\n",
    "import numpy as np\n",
    "from keras.models import Sequential\n",
    "from keras.layers import Dense, SimpleRNN\n",
    "import matplotlib.pyplot as plt\n",
    "%matplotlib inline"
   ]
  },
  {
   "cell_type": "markdown",
   "metadata": {},
   "source": [
    "# Making Dataset\n",
    "\n",
    "Making a sin serie for 1500 timestep with random noise"
   ]
  },
  {
   "cell_type": "code",
   "execution_count": 2,
   "metadata": {},
   "outputs": [
    {
     "data": {
      "image/png": "[encoded data removed]",
      "text/plain": [
       "<Figure size 432x288 with 1 Axes>"
      ]
     },
     "metadata": {
      "needs_background": "light"
     },
     "output_type": "display_data"
    }
   ],
   "source": [
    "t = np.arange(0, 1500)\n",
    "x = np.sin(0.02*t) + np.random.rand(1500) * 2\n",
    "plt.plot(x)\n",
    "plt.show()"
   ]
  },
  {
   "cell_type": "markdown",
   "metadata": {},
   "source": [
    "# Train and test split\n",
    "\n",
    "The first 1000  considered for train and the other 500 considered for test."
   ]
  },
  {
   "cell_type": "code",
   "execution_count": 3,
   "metadata": {},
   "outputs": [],
   "source": [
    "train, test = x[0:1000], x[1000:]"
   ]
  },
  {
   "cell_type": "markdown",
   "metadata": {},
   "source": [
    "# Data processing and make input and label\n",
    "\n",
    "In RNN, step will be considered for input.\n",
    "\n",
    "    x = [1,2,3,4,5,6,7,8,9,10]\n",
    "\n",
    "    for step=1, x input and its y prediction becomes:\n",
    "\n",
    "    x  y\n",
    "    1  2\n",
    "    2  3\n",
    "    3  4\n",
    "    4  5\n",
    "    ..\n",
    "    9 10\n",
    "\n",
    "    for step=3, x and y contain:\n",
    "\n",
    "    x          y\n",
    "    1,2,3      4\n",
    "    2,3,4      5\n",
    "    3,4,5      6\n",
    "    4,5,6      7\n",
    "    ...\n",
    "    7,8,9      10"
   ]
  },
  {
   "cell_type": "code",
   "execution_count": 5,
   "metadata": {},
   "outputs": [],
   "source": [
    "step = 10\n",
    "\n",
    "# convert into dataset data and label\n",
    "def convertToDataset(data, step):\n",
    "    # data = np.append(data, np.repeat(data[-1], step))\n",
    "    \n",
    "    X, Y = [],[]\n",
    "    for i in range(len(data)-step):\n",
    "        d = i + step\n",
    "        X.append(data[i:d,])\n",
    "        Y.append(data[d, ])\n",
    "    return np.array(X), np.array(Y)\n",
    "\n",
    "trainX, trainY = convertToDataset(train, step)\n",
    "testX, testY = convertToDataset(test, step)"
   ]
  },
  {
   "cell_type": "code",
   "execution_count": 6,
   "metadata": {},
   "outputs": [
    {
     "name": "stdout",
     "output_type": "stream",
     "text": [
      "(990, 10)\n",
      "(490, 10)\n"
     ]
    }
   ],
   "source": [
    "print(trainX.shape)\n",
    "print(testX.shape)"
   ]
  },
  {
   "cell_type": "markdown",
   "metadata": {},
   "source": [
    "# Data dimension change for input to network\n",
    "\n",
    "A input of RNN in Kers:\n",
    "                (NumberOfSequences, TimeSteps, ElementsPerStep)"
   ]
  },
  {
   "cell_type": "code",
   "execution_count": 7,
   "metadata": {},
   "outputs": [],
   "source": [
    "trainX = np.reshape(trainX, (trainX.shape[0],  trainX.shape[1], 1))\n",
    "testX = np.reshape(testX, (testX.shape[0],testX.shape[1], 1))"
   ]
  },
  {
   "cell_type": "code",
   "execution_count": 8,
   "metadata": {},
   "outputs": [
    {
     "name": "stdout",
     "output_type": "stream",
     "text": [
      "(990, 10, 1)\n",
      "(490, 10, 1)\n"
     ]
    }
   ],
   "source": [
    "print(trainX.shape)\n",
    "print(testX.shape)"
   ]
  },
  {
   "cell_type": "markdown",
   "metadata": {},
   "source": [
    "# Netwrok architecture and Compilation"
   ]
  },
  {
   "cell_type": "code",
   "execution_count": 9,
   "metadata": {},
   "outputs": [],
   "source": [
    "model = Sequential()\n",
    "model.add(SimpleRNN(units=64, activation=\"tanh\"))\n",
    "model.add(Dense(1))\n",
    "model.compile(loss='mean_squared_error', optimizer='rmsprop')"
   ]
  },
  {
   "cell_type": "markdown",
   "metadata": {},
   "source": [
    "# Model training"
   ]
  },
  {
   "cell_type": "code",
   "execution_count": 10,
   "metadata": {},
   "outputs": [
    {
     "name": "stdout",
     "output_type": "stream",
     "text": [
      "WARNING:tensorflow:From C:\\Users\\shadm\\anaconda3\\lib\\site-packages\\keras\\backend\\tensorflow_backend.py:422: The name tf.global_variables is deprecated. Please use tf.compat.v1.global_variables instead.\n",
      "\n",
      "Epoch 1/100\n",
      " - 1s - loss: 0.6168\n",
      "Epoch 2/100\n",
      " - 0s - loss: 0.4099\n",
      "Epoch 3/100\n",
      " - 0s - loss: 0.4059\n",
      "Epoch 4/100\n",
      " - 0s - loss: 0.3947\n",
      "Epoch 5/100\n",
      " - 0s - loss: 0.3899\n",
      "Epoch 6/100\n",
      " - 0s - loss: 0.3907\n",
      "Epoch 7/100\n",
      " - 0s - loss: 0.3870\n",
      "Epoch 8/100\n",
      " - 0s - loss: 0.3864\n",
      "Epoch 9/100\n",
      " - 0s - loss: 0.3800\n",
      "Epoch 10/100\n",
      " - 0s - loss: 0.3762\n",
      "Epoch 11/100\n",
      " - 0s - loss: 0.3779\n",
      "Epoch 12/100\n",
      " - 0s - loss: 0.3752\n",
      "Epoch 13/100\n",
      " - 0s - loss: 0.3787\n",
      "Epoch 14/100\n",
      " - 0s - loss: 0.3690\n",
      "Epoch 15/100\n",
      " - 0s - loss: 0.3693\n",
      "Epoch 16/100\n",
      " - 0s - loss: 0.3653\n",
      "Epoch 17/100\n",
      " - 0s - loss: 0.3650\n",
      "Epoch 18/100\n",
      " - 0s - loss: 0.3627\n",
      "Epoch 19/100\n",
      " - 0s - loss: 0.3610\n",
      "Epoch 20/100\n",
      " - 0s - loss: 0.3529\n",
      "Epoch 21/100\n",
      " - 0s - loss: 0.3550\n",
      "Epoch 22/100\n",
      " - 0s - loss: 0.3569\n",
      "Epoch 23/100\n",
      " - 0s - loss: 0.3555\n",
      "Epoch 24/100\n",
      " - 0s - loss: 0.3495\n",
      "Epoch 25/100\n",
      " - 0s - loss: 0.3507\n",
      "Epoch 26/100\n",
      " - 0s - loss: 0.3425\n",
      "Epoch 27/100\n",
      " - 0s - loss: 0.3414\n",
      "Epoch 28/100\n",
      " - 0s - loss: 0.3368\n",
      "Epoch 29/100\n",
      " - 0s - loss: 0.3377\n",
      "Epoch 30/100\n",
      " - 0s - loss: 0.3370\n",
      "Epoch 31/100\n",
      " - 0s - loss: 0.3329\n",
      "Epoch 32/100\n",
      " - 0s - loss: 0.3348\n",
      "Epoch 33/100\n",
      " - 0s - loss: 0.3279\n",
      "Epoch 34/100\n",
      " - 0s - loss: 0.3243\n",
      "Epoch 35/100\n",
      " - 0s - loss: 0.3194\n",
      "Epoch 36/100\n",
      " - 0s - loss: 0.3210\n",
      "Epoch 37/100\n",
      " - 0s - loss: 0.3144\n",
      "Epoch 38/100\n",
      " - 0s - loss: 0.3133\n",
      "Epoch 39/100\n",
      " - 0s - loss: 0.3075\n",
      "Epoch 40/100\n",
      " - 0s - loss: 0.3024\n",
      "Epoch 41/100\n",
      " - 0s - loss: 0.3019\n",
      "Epoch 42/100\n",
      " - 0s - loss: 0.3000\n",
      "Epoch 43/100\n",
      " - 0s - loss: 0.2987\n",
      "Epoch 44/100\n",
      " - 0s - loss: 0.2875\n",
      "Epoch 45/100\n",
      " - 0s - loss: 0.2860\n",
      "Epoch 46/100\n",
      " - 0s - loss: 0.2833\n",
      "Epoch 47/100\n",
      " - 0s - loss: 0.2795\n",
      "Epoch 48/100\n",
      " - 0s - loss: 0.2725\n",
      "Epoch 49/100\n",
      " - 0s - loss: 0.2731\n",
      "Epoch 50/100\n",
      " - 0s - loss: 0.2665\n",
      "Epoch 51/100\n",
      " - 0s - loss: 0.2659\n",
      "Epoch 52/100\n",
      " - 0s - loss: 0.2590\n",
      "Epoch 53/100\n",
      " - 0s - loss: 0.2557\n",
      "Epoch 54/100\n",
      " - 0s - loss: 0.2450\n",
      "Epoch 55/100\n",
      " - 0s - loss: 0.2440\n",
      "Epoch 56/100\n",
      " - 0s - loss: 0.2430\n",
      "Epoch 57/100\n",
      " - 0s - loss: 0.2363\n",
      "Epoch 58/100\n",
      " - 0s - loss: 0.2337\n",
      "Epoch 59/100\n",
      " - 0s - loss: 0.2321\n",
      "Epoch 60/100\n",
      " - 0s - loss: 0.2248\n",
      "Epoch 61/100\n",
      " - 0s - loss: 0.2205\n",
      "Epoch 62/100\n",
      " - 0s - loss: 0.2140\n",
      "Epoch 63/100\n",
      " - 0s - loss: 0.2095\n",
      "Epoch 64/100\n",
      " - 0s - loss: 0.2135\n",
      "Epoch 65/100\n",
      " - 0s - loss: 0.2007\n",
      "Epoch 66/100\n",
      " - 0s - loss: 0.2013\n",
      "Epoch 67/100\n",
      " - 0s - loss: 0.1939\n",
      "Epoch 68/100\n",
      " - 0s - loss: 0.1868\n",
      "Epoch 69/100\n",
      " - 0s - loss: 0.1863\n",
      "Epoch 70/100\n",
      " - 0s - loss: 0.1854\n",
      "Epoch 71/100\n",
      " - 0s - loss: 0.1789\n",
      "Epoch 72/100\n",
      " - 0s - loss: 0.1728\n",
      "Epoch 73/100\n",
      " - 0s - loss: 0.1671\n",
      "Epoch 74/100\n",
      " - 0s - loss: 0.1622\n",
      "Epoch 75/100\n",
      " - 0s - loss: 0.1647\n",
      "Epoch 76/100\n",
      " - 0s - loss: 0.1576\n",
      "Epoch 77/100\n",
      " - 0s - loss: 0.1573\n",
      "Epoch 78/100\n",
      " - 0s - loss: 0.1496\n",
      "Epoch 79/100\n",
      " - 0s - loss: 0.1452\n",
      "Epoch 80/100\n",
      " - 0s - loss: 0.1515\n",
      "Epoch 81/100\n",
      " - 0s - loss: 0.1407\n",
      "Epoch 82/100\n",
      " - 0s - loss: 0.1381\n",
      "Epoch 83/100\n",
      " - 0s - loss: 0.1365\n",
      "Epoch 84/100\n",
      " - 0s - loss: 0.1355\n",
      "Epoch 85/100\n",
      " - 0s - loss: 0.1298\n",
      "Epoch 86/100\n",
      " - 0s - loss: 0.1276\n",
      "Epoch 87/100\n",
      " - 0s - loss: 0.1291\n",
      "Epoch 88/100\n",
      " - 0s - loss: 0.1183\n",
      "Epoch 89/100\n",
      " - 0s - loss: 0.1183\n",
      "Epoch 90/100\n",
      " - 0s - loss: 0.1166\n",
      "Epoch 91/100\n",
      " - 0s - loss: 0.1165\n",
      "Epoch 92/100\n",
      " - 0s - loss: 0.1086\n",
      "Epoch 93/100\n",
      " - 0s - loss: 0.1067\n",
      "Epoch 94/100\n",
      " - 0s - loss: 0.1063\n",
      "Epoch 95/100\n",
      " - 0s - loss: 0.1039\n",
      "Epoch 96/100\n",
      " - 0s - loss: 0.0993\n",
      "Epoch 97/100\n",
      " - 0s - loss: 0.0990\n",
      "Epoch 98/100\n",
      " - 0s - loss: 0.0943\n",
      "Epoch 99/100\n",
      " - 0s - loss: 0.0938\n",
      "Epoch 100/100\n",
      " - 0s - loss: 0.0928\n"
     ]
    }
   ],
   "source": [
    "history = model.fit(trainX,trainY, epochs=100, batch_size=16, verbose=2)"
   ]
  },
  {
   "cell_type": "code",
   "execution_count": 11,
   "metadata": {},
   "outputs": [
    {
     "name": "stdout",
     "output_type": "stream",
     "text": [
      "Model: \"sequential_1\"\n",
      "_________________________________________________________________\n",
      "Layer (type)                 Output Shape              Param #   \n",
      "=================================================================\n",
      "simple_rnn_1 (SimpleRNN)     (None, 64)                4224      \n",
      "_________________________________________________________________\n",
      "dense_1 (Dense)              (None, 1)                 65        \n",
      "=================================================================\n",
      "Total params: 4,289\n",
      "Trainable params: 4,289\n",
      "Non-trainable params: 0\n",
      "_________________________________________________________________\n"
     ]
    }
   ],
   "source": [
    "model.summary()"
   ]
  },
  {
   "cell_type": "code",
   "execution_count": 12,
   "metadata": {},
   "outputs": [
    {
     "data": {
      "image/png": "[encoded data removed]",
      "text/plain": [
       "<Figure size 432x288 with 1 Axes>"
      ]
     },
     "metadata": {
      "needs_background": "light"
     },
     "output_type": "display_data"
    }
   ],
   "source": [
    "import matplotlib.pyplot as plt\n",
    "%matplotlib inline\n",
    "\n",
    "loss = history.history['loss']\n",
    "plt.plot(loss, label = 'Training loss')\n",
    "plt.legend()\n",
    "\n",
    "plt.show()"
   ]
  },
  {
   "cell_type": "markdown",
   "metadata": {},
   "source": [
    "# Model evaluation"
   ]
  },
  {
   "cell_type": "code",
   "execution_count": 13,
   "metadata": {},
   "outputs": [
    {
     "name": "stdout",
     "output_type": "stream",
     "text": [
      "0.08112317718038656\n"
     ]
    }
   ],
   "source": [
    "trainScore = model.evaluate(trainX, trainY, verbose=0)\n",
    "print(trainScore)"
   ]
  },
  {
   "cell_type": "markdown",
   "metadata": {},
   "source": [
    "# Drawing main serie and prediction for train and test data"
   ]
  },
  {
   "cell_type": "code",
   "execution_count": 14,
   "metadata": {},
   "outputs": [],
   "source": [
    "trainPredict = model.predict(trainX)\n",
    "testPredict= model.predict(testX)\n",
    "predicted=np.concatenate((trainPredict,testPredict),axis=0)"
   ]
  },
  {
   "cell_type": "code",
   "execution_count": 15,
   "metadata": {},
   "outputs": [
    {
     "data": {
      "image/png": "[encoded data removed]",
      "text/plain": [
       "<Figure size 432x288 with 1 Axes>"
      ]
     },
     "metadata": {
      "needs_background": "light"
     },
     "output_type": "display_data"
    }
   ],
   "source": [
    "plt.plot(x)\n",
    "plt.plot(predicted)\n",
    "plt.axvline(len(trainX), c=\"r\")\n",
    "plt.show()"
   ]
  },
  {
   "cell_type": "markdown",
   "metadata": {},
   "source": [
    "# Model input with different length"
   ]
  },
  {
   "cell_type": "code",
   "execution_count": 16,
   "metadata": {},
   "outputs": [],
   "source": [
    "testX, testY = convertToDataset(test, 50)"
   ]
  },
  {
   "cell_type": "code",
   "execution_count": 17,
   "metadata": {},
   "outputs": [
    {
     "data": {
      "text/plain": [
       "(450, 50, 1)"
      ]
     },
     "execution_count": 17,
     "metadata": {},
     "output_type": "execute_result"
    }
   ],
   "source": [
    "testX = np.reshape(testX, (testX.shape[0], testX.shape[1], 1))\n",
    "testX.shape"
   ]
  },
  {
   "cell_type": "code",
   "execution_count": 18,
   "metadata": {},
   "outputs": [
    {
     "data": {
      "text/plain": [
       "<tf.Tensor 'sequential_1_input:0' shape=(?, 10, 1) dtype=float32>"
      ]
     },
     "execution_count": 18,
     "metadata": {},
     "output_type": "execute_result"
    }
   ],
   "source": [
    "model.input"
   ]
  },
  {
   "cell_type": "code",
   "execution_count": null,
   "metadata": {},
   "outputs": [],
   "source": []
  }
 ],
 "metadata": {
  "kernelspec": {
   "display_name": "Python 3",
   "language": "python",
   "name": "python3"
  },
  "language_info": {
   "codemirror_mode": {
    "name": "ipython",
    "version": 3
   },
   "file_extension": ".py",
   "mimetype": "text/x-python",
   "name": "python",
   "nbconvert_exporter": "python",
   "pygments_lexer": "ipython3",
   "version": "3.7.6"
  }
 },
 "nbformat": 4,
 "nbformat_minor": 4
}
